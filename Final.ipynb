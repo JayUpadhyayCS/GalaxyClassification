{
 "cells": [
  {
   "cell_type": "markdown",
   "metadata": {},
   "source": [
    "## Contributors\n",
    "### Jay Upadhyay\n",
    "### \n",
    "###\n",
    "###\n",
    "###"
   ]
  },
  {
   "cell_type": "markdown",
   "metadata": {},
   "source": [
    "# Libraries"
   ]
  },
  {
   "cell_type": "code",
   "execution_count": null,
   "metadata": {},
   "outputs": [],
   "source": [
    "# from tensorflow import keras\n",
    "# from keras import utils\n",
    "# from keras.models import Sequential\n",
    "# from keras.layers import Conv2D, Dense, MaxPooling2D, Flatten\n",
    "# from sklearn.model_selection import train_test_split\n",
    "import matplotlib.pyplot as plt\n",
    "import random\n",
    "import numpy as np\n",
    "import h5py\n",
    "import pandas as pd\n",
    "import seaborn as sns"
   ]
  },
  {
   "cell_type": "code",
   "execution_count": null,
   "metadata": {},
   "outputs": [],
   "source": [
    "df_orig=pd.read_csv(\"adult.csv\")\n",
    "df_orig.dropna(inplace=True)\n",
    "df_orig"
   ]
  },
  {
   "cell_type": "markdown",
   "metadata": {},
   "source": [
    "# 1. Project Proposal\n"
   ]
  },
  {
   "cell_type": "markdown",
   "metadata": {},
   "source": [
    "We pulled the data from https://archive-beta.ics.uci.edu/dataset/2/adult ."
   ]
  },
  {
   "cell_type": "markdown",
   "metadata": {},
   "source": [
    "# 2. Data Collection and data cleaning\n"
   ]
  },
  {
   "cell_type": "markdown",
   "metadata": {},
   "source": [
    "## Changing workclass to numeric"
   ]
  },
  {
   "cell_type": "code",
   "execution_count": null,
   "metadata": {},
   "outputs": [],
   "source": [
    "df_orig[\" workclass\"].unique()"
   ]
  },
  {
   "cell_type": "code",
   "execution_count": null,
   "metadata": {},
   "outputs": [],
   "source": [
    "df_orig[\" workclass\"].replace([' State-gov', ' Self-emp-not-inc', ' Private', ' Federal-gov',\n",
    "       ' Local-gov', ' ?', ' Self-emp-inc', ' Without-pay',\n",
    "       ' Never-worked'],\n",
    "                        range(0,9), inplace=True)"
   ]
  },
  {
   "cell_type": "markdown",
   "metadata": {},
   "source": [
    "## Changing Education to Numeric"
   ]
  },
  {
   "cell_type": "code",
   "execution_count": null,
   "metadata": {},
   "outputs": [],
   "source": [
    "df_orig.education.unique()\n"
   ]
  },
  {
   "cell_type": "markdown",
   "metadata": {},
   "source": [
    "#### Note. I want to come back to this and bin it into appropriate \n",
    "I also chose to exclude this for now because I believe education-num already represents it numerically."
   ]
  },
  {
   "cell_type": "code",
   "execution_count": null,
   "metadata": {},
   "outputs": [],
   "source": [
    "# df_orig['education'].replace([ ' Preschool',' 1st-4th',' 5th-6th',' 7th-8th',' 9th',' 10th',' 11th',' 12th',' HS-grad',\n",
    "#                               ' Assoc-voc',' Assoc-acdm','Some-college',' Bachelors', ' Masters',\n",
    "#                               ' Prof-school' ,' Doctorate'],\n",
    "#                         [1,2,3,4,5,6,7,8,9,10,11,12,13,14,15,16], inplace=True)\n"
   ]
  },
  {
   "cell_type": "markdown",
   "metadata": {},
   "source": [
    "## Changing marital status to numeric"
   ]
  },
  {
   "cell_type": "code",
   "execution_count": null,
   "metadata": {},
   "outputs": [],
   "source": [
    "df_orig[\"marital-status\"].unique()"
   ]
  },
  {
   "cell_type": "code",
   "execution_count": null,
   "metadata": {},
   "outputs": [],
   "source": [
    "df_orig[\"marital-status\"].replace([' Never-married', ' Married-civ-spouse', ' Divorced',\n",
    "       ' Married-spouse-absent', ' Separated', ' Married-AF-spouse',\n",
    "       ' Widowed'],range(1,8), inplace=True)\n",
    "df_orig\n",
    "\n"
   ]
  },
  {
   "cell_type": "markdown",
   "metadata": {},
   "source": [
    "## Occupation\n",
    "\n",
    "I don't like the ? mark section."
   ]
  },
  {
   "cell_type": "code",
   "execution_count": null,
   "metadata": {},
   "outputs": [],
   "source": [
    "df_orig[\"occupation\"].unique()"
   ]
  },
  {
   "cell_type": "code",
   "execution_count": null,
   "metadata": {},
   "outputs": [],
   "source": [
    "df_orig[\"occupation\"].replace([' Adm-clerical', ' Exec-managerial', ' Handlers-cleaners',\n",
    "       ' Prof-specialty', ' Other-service', ' Sales', ' Craft-repair',\n",
    "       ' Transport-moving', ' Farming-fishing', ' Machine-op-inspct',\n",
    "       ' Tech-support', ' ?', ' Protective-serv', ' Armed-Forces',\n",
    "       ' Priv-house-serv'],range(0,15), inplace=True)\n",
    "df_orig"
   ]
  },
  {
   "cell_type": "markdown",
   "metadata": {},
   "source": [
    "## Relationship conversion to numeric\n",
    "\n",
    "I don't like other relative section here.\n"
   ]
  },
  {
   "cell_type": "code",
   "execution_count": null,
   "metadata": {},
   "outputs": [],
   "source": [
    "df_orig[\"relationship\"].unique()"
   ]
  },
  {
   "cell_type": "code",
   "execution_count": null,
   "metadata": {},
   "outputs": [],
   "source": [
    "df_orig[\"relationship\"].replace([' Not-in-family', ' Husband', ' Wife', ' Own-child', ' Unmarried',\n",
    "       ' Other-relative'],range(0,6), inplace=True)\n",
    "df_orig"
   ]
  },
  {
   "cell_type": "markdown",
   "metadata": {},
   "source": [
    "## Race conversion to numeric\n"
   ]
  },
  {
   "cell_type": "code",
   "execution_count": null,
   "metadata": {},
   "outputs": [],
   "source": [
    "df_orig[\"race\"].unique()"
   ]
  },
  {
   "cell_type": "code",
   "execution_count": null,
   "metadata": {},
   "outputs": [],
   "source": [
    "df_orig[\"race\"].replace([' White', ' Black', ' Asian-Pac-Islander', ' Amer-Indian-Eskimo',\n",
    "       ' Other'],range(0,5), inplace=True)\n",
    "df_orig"
   ]
  },
  {
   "cell_type": "markdown",
   "metadata": {},
   "source": [
    "## Sex conversion to numeric"
   ]
  },
  {
   "cell_type": "code",
   "execution_count": null,
   "metadata": {},
   "outputs": [],
   "source": [
    "df_orig[\"sex\"].unique()"
   ]
  },
  {
   "cell_type": "code",
   "execution_count": null,
   "metadata": {},
   "outputs": [],
   "source": [
    "df_orig[\"sex\"].replace([' Male', ' Female'],range(0,2), inplace=True)\n",
    "df_orig"
   ]
  },
  {
   "cell_type": "markdown",
   "metadata": {},
   "source": [
    "#Country to Numeric"
   ]
  },
  {
   "cell_type": "code",
   "execution_count": null,
   "metadata": {},
   "outputs": [],
   "source": [
    "# Changing a column \"class\" to be 0:<=50K and 1:>50K\n",
    "country_list = list(sorted(set(df_orig[\"native-country\"])))\n",
    "\n",
    "for i,x in enumerate(country_list):\n",
    "    print(i,\":\", x)\n",
    "\n",
    "df_orig['native-country'].replace(country_list,\n",
    "                        range(len(country_list)), inplace=True)"
   ]
  },
  {
   "cell_type": "markdown",
   "metadata": {},
   "source": [
    "# Income to numeric"
   ]
  },
  {
   "cell_type": "code",
   "execution_count": null,
   "metadata": {},
   "outputs": [],
   "source": [
    "# Changing a column \"class\" to be 0:<=50K and 1:>50K\n",
    "class_list = list(sorted(set(df_orig[\"class\"])))\n",
    "\n",
    "for i,x in enumerate(class_list):\n",
    "    print(i,\":\", x)\n",
    "    \n",
    "df_orig['class'].replace(class_list,\n",
    "                        range(len(class_list)), inplace=True)"
   ]
  },
  {
   "cell_type": "code",
   "execution_count": null,
   "metadata": {},
   "outputs": [],
   "source": [
    "df_orig"
   ]
  },
  {
   "cell_type": "markdown",
   "metadata": {},
   "source": [
    "## Correlation Matrix"
   ]
  },
  {
   "cell_type": "code",
   "execution_count": null,
   "metadata": {},
   "outputs": [],
   "source": [
    "\n",
    "df_small = df_orig.iloc[:,[0,1,3,8,9,12,13,14]]\n",
    "correlation_mat = df_small.corr()\n",
    "sns.heatmap(correlation_mat, annot = True)\n",
    "plt.show()"
   ]
  },
  {
   "cell_type": "markdown",
   "metadata": {},
   "source": [
    "# 3. EDA"
   ]
  },
  {
   "cell_type": "markdown",
   "metadata": {},
   "source": [
    "# 4. Techniques Used"
   ]
  },
  {
   "cell_type": "code",
   "execution_count": null,
   "metadata": {},
   "outputs": [],
   "source": []
  },
  {
   "cell_type": "markdown",
   "metadata": {},
   "source": [
    "# 5. Project Proposal"
   ]
  }
 ],
 "metadata": {
  "kernelspec": {
   "display_name": "Python 3 (ipykernel)",
   "language": "python",
   "name": "python3"
  },
  "language_info": {
   "codemirror_mode": {
    "name": "ipython",
    "version": 3
   },
   "file_extension": ".py",
   "mimetype": "text/x-python",
   "name": "python",
   "nbconvert_exporter": "python",
   "pygments_lexer": "ipython3",
   "version": "3.9.12"
  },
  "vscode": {
   "interpreter": {
    "hash": "aee8b7b246df8f9039afb4144a1f6fd8d2ca17a180786b69acc140d282b71a49"
   }
  }
 },
 "nbformat": 4,
 "nbformat_minor": 2
}
