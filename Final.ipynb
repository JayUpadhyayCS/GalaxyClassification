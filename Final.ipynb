{
 "cells": [
  {
   "cell_type": "markdown",
   "metadata": {},
   "source": [
    "## Contributors\n",
    "### Jay Upadhyay\n",
    "### Haruki Miyazaki\n",
    "### Victor Sandoval Vargas\n",
    "###\n",
    "###"
   ]
  },
  {
   "cell_type": "markdown",
   "metadata": {},
   "source": [
    "# Libraries"
   ]
  },
  {
   "cell_type": "code",
   "execution_count": null,
   "metadata": {},
   "outputs": [],
   "source": [
    "# from tensorflow import keras\n",
    "# from keras import utils\n",
    "# from keras.models import Sequential\n",
    "# from keras.layers import Conv2D, Dense, MaxPooling2D, Flatten\n",
    "# from sklearn.model_selection import train_test_split\n",
    "import matplotlib.pyplot as plt\n",
    "import random\n",
    "import numpy as np\n",
    "import h5py\n",
    "import pandas as pd\n",
    "import seaborn as sns\n",
    "from sklearn.linear_model import LinearRegression"
   ]
  },
  {
   "cell_type": "code",
   "execution_count": null,
   "metadata": {},
   "outputs": [],
   "source": [
    "df_orig=pd.read_csv(\"adult.csv\")\n",
    "df_orig.dropna(inplace=True)\n",
    "df_orig"
   ]
  },
  {
   "cell_type": "markdown",
   "metadata": {},
   "source": [
    "# 1. Project Proposal\n"
   ]
  },
  {
   "cell_type": "markdown",
   "metadata": {},
   "source": [
    "We pulled the data from https://archive-beta.ics.uci.edu/dataset/2/adult ."
   ]
  },
  {
   "cell_type": "markdown",
   "metadata": {},
   "source": [
    "# 2. Data Collection and data cleaning\n"
   ]
  },
  {
   "cell_type": "markdown",
   "metadata": {},
   "source": [
    "## Changing workclass to numeric"
   ]
  },
  {
   "cell_type": "code",
   "execution_count": null,
   "metadata": {},
   "outputs": [],
   "source": [
    "workclass_list = list(sorted(set(df_orig[\" workclass\"])))\n",
    "\n",
    "for i,x in enumerate(workclass_list):\n",
    "    print(i,\":\", x)\n",
    "    \n",
    "df_orig[' workclass'].replace(workclass_list,\n",
    "                        range(len(workclass_list)), inplace=True)"
   ]
  },
  {
   "cell_type": "markdown",
   "metadata": {},
   "source": [
    "## Changing Education to Numeric"
   ]
  },
  {
   "cell_type": "code",
   "execution_count": null,
   "metadata": {},
   "outputs": [],
   "source": [
    "education_list = list(sorted(set(df_orig[\"education\"])))\n",
    "\n",
    "for i,x in enumerate(education_list):\n",
    "    print(i,\":\", x)\n",
    "    \n",
    "df_orig['education'].replace(education_list,\n",
    "                        range(len(education_list)), inplace=True)"
   ]
  },
  {
   "cell_type": "markdown",
   "metadata": {},
   "source": [
    "#### Note. I want to come back to this and bin it into appropriate \n",
    "I also chose to exclude this for now because I believe education-num already represents it numerically."
   ]
  },
  {
   "cell_type": "markdown",
   "metadata": {},
   "source": [
    "## Changing marital status to numeric"
   ]
  },
  {
   "cell_type": "code",
   "execution_count": null,
   "metadata": {},
   "outputs": [],
   "source": [
    "marital_list = list(sorted(set(df_orig[\"marital-status\"])))\n",
    "\n",
    "for i,x in enumerate(marital_list):\n",
    "    print(i,\":\", x)\n",
    "\n",
    "df_orig['marital-status'].replace(marital_list,\n",
    "                        range(len(marital_list)), inplace=True)"
   ]
  },
  {
   "cell_type": "markdown",
   "metadata": {},
   "source": [
    "## Occupation\n",
    "\n",
    "I don't like the ? mark section."
   ]
  },
  {
   "cell_type": "code",
   "execution_count": null,
   "metadata": {},
   "outputs": [],
   "source": [
    "occupation_list = list(sorted(set(df_orig[\"occupation\"])))\n",
    "\n",
    "for i,x in enumerate(occupation_list):\n",
    "    print(i,\":\", x)\n",
    "\n",
    "df_orig['occupation'].replace(occupation_list,\n",
    "                        range(len(occupation_list)), inplace=True)"
   ]
  },
  {
   "cell_type": "markdown",
   "metadata": {},
   "source": [
    "## Relationship conversion to numeric\n",
    "\n",
    "I don't like other relative section here.\n"
   ]
  },
  {
   "cell_type": "code",
   "execution_count": null,
   "metadata": {},
   "outputs": [],
   "source": [
    "relationship_list = list(sorted(set(df_orig[\"relationship\"])))\n",
    "\n",
    "for i,x in enumerate(relationship_list):\n",
    "    print(i,\":\", x)\n",
    "\n",
    "df_orig['relationship'].replace(relationship_list,\n",
    "                        range(len(relationship_list)), inplace=True)"
   ]
  },
  {
   "cell_type": "markdown",
   "metadata": {},
   "source": [
    "## Race conversion to numeric\n"
   ]
  },
  {
   "cell_type": "code",
   "execution_count": null,
   "metadata": {},
   "outputs": [],
   "source": [
    "race_list = list(sorted(set(df_orig[\"race\"])))\n",
    "\n",
    "for i,x in enumerate(race_list):\n",
    "    print(i,\":\", x)\n",
    "\n",
    "df_orig['race'].replace(race_list,\n",
    "                        range(len(race_list)), inplace=True)"
   ]
  },
  {
   "cell_type": "markdown",
   "metadata": {},
   "source": [
    "## Sex conversion to numeric"
   ]
  },
  {
   "cell_type": "code",
   "execution_count": null,
   "metadata": {},
   "outputs": [],
   "source": [
    "sex_list = list(sorted(set(df_orig[\"sex\"])))\n",
    "\n",
    "for i,x in enumerate(sex_list):\n",
    "    print(i,\":\", x)\n",
    "\n",
    "df_orig['sex'].replace(sex_list,\n",
    "                        range(len(sex_list)), inplace=True)"
   ]
  },
  {
   "cell_type": "markdown",
   "metadata": {},
   "source": [
    "## Country to Numeric"
   ]
  },
  {
   "cell_type": "code",
   "execution_count": null,
   "metadata": {},
   "outputs": [],
   "source": [
    "# Changing a column \"class\" to be 0:<=50K and 1:>50K\n",
    "country_list = list(sorted(set(df_orig[\"native-country\"])))\n",
    "\n",
    "for i,x in enumerate(country_list):\n",
    "    print(i,\":\", x)\n",
    "\n",
    "df_orig['native-country'].replace(country_list,\n",
    "                        range(len(country_list)), inplace=True)"
   ]
  },
  {
   "cell_type": "markdown",
   "metadata": {},
   "source": [
    "## Income to numeric"
   ]
  },
  {
   "cell_type": "code",
   "execution_count": null,
   "metadata": {},
   "outputs": [],
   "source": [
    "# Changing a column \"class\" to be 0:<=50K and 1:>50K\n",
    "class_list = list(sorted(set(df_orig[\"class\"])))\n",
    "\n",
    "for i,x in enumerate(class_list):\n",
    "    print(i,\":\", x)\n",
    "    \n",
    "df_orig['class'].replace(class_list,\n",
    "                        range(len(class_list)), inplace=True)"
   ]
  },
  {
   "cell_type": "code",
   "execution_count": null,
   "metadata": {},
   "outputs": [],
   "source": [
    "df_orig"
   ]
  },
  {
   "cell_type": "markdown",
   "metadata": {},
   "source": [
    "## Linear Regression"
   ]
  },
  {
   "cell_type": "code",
   "execution_count": null,
   "metadata": {},
   "outputs": [],
   "source": [
    "df_orig.head()"
   ]
  },
  {
   "cell_type": "code",
   "execution_count": null,
   "metadata": {},
   "outputs": [],
   "source": [
    "df_orig['education'].replace([ ' Preschool',' 1st-4th',' 5th-6th',' 7th-8th',' 9th',' 10th',' 11th',' 12th',' HS-grad',\n",
    "                               ' Assoc-voc',' Assoc-acdm','Some-college',' Bachelors', ' Masters',\n",
    "                               ' Prof-school' ,' Doctorate'],\n",
    "                         range(0,16), inplace=True)"
   ]
  },
  {
   "cell_type": "code",
   "execution_count": null,
   "metadata": {},
   "outputs": [],
   "source": [
    "df_orig.head()"
   ]
  },
  {
   "cell_type": "code",
   "execution_count": null,
   "metadata": {},
   "outputs": [],
   "source": [
    "X_Gender = df_orig[[\"sex\"]]\n",
    "Y_Income = df_orig[\"class\"]\n",
    "\n",
    "GenderIncome_model = LinearRegression()\n",
    "GenderIncome_model.fit(X=X_Gender, y=Y_Income)"
   ]
  },
  {
   "cell_type": "code",
   "execution_count": null,
   "metadata": {},
   "outputs": [],
   "source": [
    "'''\n",
    "X_GenderIncome = pd.DataFrame(df_orig)\n",
    "X_GenderIncome[\"sex\"] = np.linspace(0,1,num=32561)\n",
    "y_GenderIncome = pd.Series(\n",
    "    GenderIncome_model.predict(X_GenderIncome),\n",
    "    index = X_GenderIncome[\"sex\"]\n",
    ")\n",
    "'''"
   ]
  },
  {
   "cell_type": "code",
   "execution_count": null,
   "metadata": {},
   "outputs": [],
   "source": [
    "FemaleIncome = GenderIncome_model.predict( X=[[0]] )[0]\n",
    "MaleIncome = GenderIncome_model.predict( X=[[1]])[0]\n",
    "condition = \"\"\n",
    "if MaleIncome > FemaleIncome:\n",
    "    condition = \"greater\"\n",
    "else:\n",
    "    condition = \"less\"\n",
    "\n",
    "print(\"Male Income (\", MaleIncome ,\") is \" + condition + \" than Female Income (\", FemaleIncome, \")\")"
   ]
  },
  {
   "cell_type": "markdown",
   "metadata": {},
   "source": [
    "Looking solely on gender we can see that it is more likely for a man to have an income of >50k compared to that of a woman. We will now examine if this holds true when women has higher education compared to the male."
   ]
  },
  {
   "cell_type": "code",
   "execution_count": null,
   "metadata": {},
   "outputs": [],
   "source": [
    "X_Gender = df_orig[[\"sex\", \"education\"]]\n",
    "GenderIncome_model.fit(X=X_Gender, y=Y_Income)\n",
    "\n",
    "FemaleIncome = GenderIncome_model.predict( X=[[0,15]] )[0] # Female with Doctorate\n",
    "MaleIncome = GenderIncome_model.predict( X=[[1,8]])[0] # Male with only HS education\n",
    "condition = \"\"\n",
    "if MaleIncome > FemaleIncome:\n",
    "    condition = \"greater\"\n",
    "else:\n",
    "    condition = \"less\"\n",
    "\n",
    "print(\"Male Income (\", MaleIncome ,\") is \" + condition + \" than Female Income (\", FemaleIncome, \")\")\n"
   ]
  },
  {
   "cell_type": "markdown",
   "metadata": {},
   "source": [
    "From the above linear regression, we can see that a female who has a doctorate is predicted to earn less than a Male who is a High School graduate without any other form of higher education. "
   ]
  },
  {
   "cell_type": "markdown",
   "metadata": {},
   "source": [
    "## Correlation Matrix"
   ]
  },
  {
   "cell_type": "code",
   "execution_count": null,
   "metadata": {},
   "outputs": [],
   "source": [
    "\n",
    "df_small = df_orig.iloc[:,[0,1,3,8,9,12,13,14]]\n",
    "correlation_mat = df_small.corr()\n",
    "sns.heatmap(correlation_mat, annot = True)\n",
    "plt.show()"
   ]
  },
  {
   "cell_type": "markdown",
   "metadata": {},
   "source": [
    "# 3. EDA"
   ]
  },
  {
   "cell_type": "markdown",
   "metadata": {},
   "source": [
    "# 4. Techniques Used"
   ]
  },
  {
   "cell_type": "code",
   "execution_count": null,
   "metadata": {},
   "outputs": [],
   "source": []
  },
  {
   "cell_type": "markdown",
   "metadata": {},
   "source": [
    "# 5. Project Proposal"
   ]
  }
 ],
 "metadata": {
  "kernelspec": {
   "display_name": "Python 3.9.12 ('base')",
   "language": "python",
   "name": "python3"
  },
  "language_info": {
   "codemirror_mode": {
    "name": "ipython",
    "version": 3
   },
   "file_extension": ".py",
   "mimetype": "text/x-python",
   "name": "python",
   "nbconvert_exporter": "python",
   "pygments_lexer": "ipython3",
   "version": "3.9.12"
  },
  "vscode": {
   "interpreter": {
    "hash": "a8e0ba2ee76e786137407659e0a1b83380950342a0397d9067fd9b1edc172808"
   }
  }
 },
 "nbformat": 4,
 "nbformat_minor": 2
}
