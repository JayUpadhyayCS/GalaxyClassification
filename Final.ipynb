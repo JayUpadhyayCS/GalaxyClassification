{
 "cells": [
  {
   "cell_type": "markdown",
   "metadata": {},
   "source": [
    "## Contributors\n",
    "### Jay Upadhyay\n",
    "### Haruki Miyazaki\n",
    "###\n",
    "###\n",
    "###"
   ]
  },
  {
   "cell_type": "markdown",
   "metadata": {},
   "source": [
    "# Libraries"
   ]
  },
  {
   "cell_type": "code",
   "execution_count": null,
   "metadata": {},
   "outputs": [],
   "source": [
    "from sklearn.neighbors import KNeighborsClassifier\n",
    "from sklearn.ensemble import RandomForestClassifier\n",
    "\n",
    "from sklearn.model_selection import train_test_split\n",
    "from sklearn import metrics\n",
    "import matplotlib.pyplot as plt\n",
    "import random\n",
    "import numpy as np\n",
    "import h5py\n",
    "import pandas as pd\n",
    "import seaborn as sns"
   ]
  },
  {
   "cell_type": "code",
   "execution_count": null,
   "metadata": {},
   "outputs": [],
   "source": [
    "df_orig=pd.read_csv(\"adult.csv\")\n",
    "df_orig.dropna(inplace=True)\n",
    "df_orig"
   ]
  },
  {
   "cell_type": "markdown",
   "metadata": {},
   "source": [
    "# 1. Project Proposal\n"
   ]
  },
  {
   "cell_type": "markdown",
   "metadata": {},
   "source": [
    "We pulled the data from https://archive-beta.ics.uci.edu/dataset/2/adult ."
   ]
  },
  {
   "cell_type": "markdown",
   "metadata": {},
   "source": [
    "# 2. Data Collection and data cleaning\n"
   ]
  },
  {
   "cell_type": "markdown",
   "metadata": {},
   "source": [
    "## Changing workclass to numeric"
   ]
  },
  {
   "cell_type": "code",
   "execution_count": null,
   "metadata": {},
   "outputs": [],
   "source": [
    "workclass_list = list(sorted(set(df_orig[\" workclass\"])))\n",
    "\n",
    "for i,x in enumerate(workclass_list):\n",
    "    print(i,\":\", x)\n",
    "    \n",
    "df_orig[' workclass'].replace(workclass_list,\n",
    "                        range(len(workclass_list)), inplace=True)"
   ]
  },
  {
   "cell_type": "markdown",
   "metadata": {},
   "source": [
    "## Changing Education to Numeric"
   ]
  },
  {
   "cell_type": "code",
   "execution_count": null,
   "metadata": {},
   "outputs": [],
   "source": [
    "df_orig['education'].unique()"
   ]
  },
  {
   "cell_type": "code",
   "execution_count": null,
   "metadata": {},
   "outputs": [],
   "source": [
    "education_list=[ ' Preschool',' 1st-4th',' 5th-6th',' 7th-8th',' 9th',' 10th',' 11th',' 12th',' HS-grad',\n",
    "                              ' Assoc-voc',' Assoc-acdm',' Some-college',' Bachelors', ' Masters',\n",
    "                              ' Prof-school' ,' Doctorate']\n",
    "\n",
    "df_orig['education'].replace(education_list,\n",
    "                        range(16), inplace=True)\n",
    "\n",
    "df_orig\n",
    "for x in range(16):\n",
    "    print(x,\":\", education_list[x])"
   ]
  },
  {
   "cell_type": "markdown",
   "metadata": {},
   "source": [
    "#### Note. I want to come back to this and bin it into appropriate \n",
    "I also chose to exclude this for now because I believe education-num already represents it numerically."
   ]
  },
  {
   "cell_type": "markdown",
   "metadata": {},
   "source": [
    "## Changing marital status to numeric"
   ]
  },
  {
   "cell_type": "code",
   "execution_count": null,
   "metadata": {},
   "outputs": [],
   "source": [
    "marital_list = list(sorted(set(df_orig[\"marital-status\"])))\n",
    "\n",
    "for i,x in enumerate(marital_list):\n",
    "    print(i,\":\", x)\n",
    "\n",
    "df_orig['marital-status'].replace(marital_list,\n",
    "                        range(len(marital_list)), inplace=True)"
   ]
  },
  {
   "cell_type": "markdown",
   "metadata": {},
   "source": [
    "## Occupation\n",
    "\n",
    "I don't like the ? mark section."
   ]
  },
  {
   "cell_type": "code",
   "execution_count": null,
   "metadata": {},
   "outputs": [],
   "source": [
    "occupation_list = list(sorted(set(df_orig[\"occupation\"])))\n",
    "\n",
    "for i,x in enumerate(occupation_list):\n",
    "    print(i,\":\", x)\n",
    "\n",
    "df_orig['occupation'].replace(occupation_list,\n",
    "                        range(len(occupation_list)), inplace=True)"
   ]
  },
  {
   "cell_type": "markdown",
   "metadata": {},
   "source": [
    "## Relationship conversion to numeric\n",
    "\n",
    "I don't like other relative section here.\n"
   ]
  },
  {
   "cell_type": "code",
   "execution_count": null,
   "metadata": {},
   "outputs": [],
   "source": [
    "relationship_list = list(sorted(set(df_orig[\"relationship\"])))\n",
    "\n",
    "for i,x in enumerate(relationship_list):\n",
    "    print(i,\":\", x)\n",
    "\n",
    "df_orig['relationship'].replace(relationship_list,\n",
    "                        range(len(relationship_list)), inplace=True)"
   ]
  },
  {
   "cell_type": "markdown",
   "metadata": {},
   "source": [
    "## Race conversion to numeric\n"
   ]
  },
  {
   "cell_type": "code",
   "execution_count": null,
   "metadata": {},
   "outputs": [],
   "source": [
    "race_list = list(sorted(set(df_orig[\"race\"])))\n",
    "\n",
    "for i,x in enumerate(race_list):\n",
    "    print(i,\":\", x)\n",
    "\n",
    "df_orig['race'].replace(race_list,\n",
    "                        range(len(race_list)), inplace=True)"
   ]
  },
  {
   "cell_type": "markdown",
   "metadata": {},
   "source": [
    "## Sex conversion to numeric"
   ]
  },
  {
   "cell_type": "code",
   "execution_count": null,
   "metadata": {},
   "outputs": [],
   "source": [
    "sex_list = list(sorted(set(df_orig[\"sex\"])))\n",
    "\n",
    "for i,x in enumerate(sex_list):\n",
    "    print(i,\":\", x)\n",
    "\n",
    "df_orig['sex'].replace(sex_list,\n",
    "                        range(len(sex_list)), inplace=True)"
   ]
  },
  {
   "cell_type": "markdown",
   "metadata": {},
   "source": [
    "## Country to Numeric"
   ]
  },
  {
   "cell_type": "code",
   "execution_count": null,
   "metadata": {},
   "outputs": [],
   "source": [
    "# Changing a column \"class\" to be 0:<=50K and 1:>50K\n",
    "country_list = list(sorted(set(df_orig[\"native-country\"])))\n",
    "\n",
    "for i,x in enumerate(country_list):\n",
    "    print(i,\":\", x)\n",
    "\n",
    "df_orig['native-country'].replace(country_list,\n",
    "                        range(len(country_list)), inplace=True)"
   ]
  },
  {
   "cell_type": "markdown",
   "metadata": {},
   "source": [
    "## Income to numeric"
   ]
  },
  {
   "cell_type": "code",
   "execution_count": null,
   "metadata": {},
   "outputs": [],
   "source": [
    "# Changing a column \"class\" to be 0:<=50K and 1:>50K\n",
    "class_list = list(sorted(set(df_orig[\"class\"])))\n",
    "\n",
    "for i,x in enumerate(class_list):\n",
    "    print(i,\":\", x)\n",
    "    \n",
    "df_orig['class'].replace(class_list,\n",
    "                        range(len(class_list)), inplace=True)"
   ]
  },
  {
   "cell_type": "code",
   "execution_count": null,
   "metadata": {},
   "outputs": [],
   "source": [
    "df_orig"
   ]
  },
  {
   "cell_type": "markdown",
   "metadata": {},
   "source": [
    "## Correlation Matrix"
   ]
  },
  {
   "cell_type": "code",
   "execution_count": null,
   "metadata": {},
   "outputs": [],
   "source": [
    "\n",
    "df_small = df_orig.iloc[:,[0,1,3,8,9,12,13,14]]\n",
    "correlation_mat = df_small.corr()\n",
    "sns.heatmap(correlation_mat, annot = True)\n",
    "plt.show()"
   ]
  },
  {
   "cell_type": "markdown",
   "metadata": {},
   "source": [
    "# 3. EDA"
   ]
  },
  {
   "cell_type": "markdown",
   "metadata": {},
   "source": [
    "## The relationship between people under 50k and upper 50k"
   ]
  },
  {
   "cell_type": "code",
   "execution_count": null,
   "metadata": {
    "scrolled": false
   },
   "outputs": [],
   "source": [
    "sns.set(font_scale=1.2,rc={\"figure.dpi\":300})\n",
    "df_orig['class'].value_counts().plot(kind='bar', figsize=(15, 6), rot=0)\n",
    "plt.xlabel(\"Class\")\n",
    "plt.ylabel(\"Count of People\")\n",
    "plt.title(\"The number of people who earnes less than 50k (0) and greater than 50k (1)\")\n",
    "plt.show()\n",
    "print(\"We can see that there are more male than female in the dataset, which means that there are\", round(df_orig['class'].value_counts()[0]\\\n",
    "      /df_orig['class'].value_counts()[1], 2), \"times more male than female.\")"
   ]
  },
  {
   "cell_type": "markdown",
   "metadata": {},
   "source": [
    "## Distribution"
   ]
  },
  {
   "cell_type": "markdown",
   "metadata": {},
   "source": [
    "### Distributed by Age"
   ]
  },
  {
   "cell_type": "code",
   "execution_count": null,
   "metadata": {
    "scrolled": false
   },
   "outputs": [],
   "source": [
    "df_orig['Age'].value_counts().plot(kind='bar', figsize=(25, 8), rot=10)\n",
    "plt.xlabel(\"Age\")\n",
    "plt.ylabel(\"Count of People\")\n",
    "plt.title(\"Number of people by age\")\n",
    "plt.show()"
   ]
  },
  {
   "cell_type": "code",
   "execution_count": null,
   "metadata": {},
   "outputs": [],
   "source": [
    "graph = sns.displot(data=df_orig, x=\"Age\", binwidth=1, hue=\"class\")\n",
    "graph.fig.set_size_inches(20,8)"
   ]
  },
  {
   "cell_type": "markdown",
   "metadata": {},
   "source": [
    "According to this article: \"Retirement age in US rises to 61 (from 57 in the early 90s)\" (https://www.today.com/money/retirement-age-us-rises-61-57-early-90s-1c9959555), the retirement age was 60 in 1995 (the dataset is 1994 census data), so we can bin 60+ years-old as retirement age.\n",
    "We are going to create 10-year-bins later on."
   ]
  },
  {
   "cell_type": "markdown",
   "metadata": {},
   "source": [
    "### Distributed by workclass"
   ]
  },
  {
   "cell_type": "code",
   "execution_count": null,
   "metadata": {},
   "outputs": [],
   "source": [
    "df_orig[' workclass'].value_counts().plot(kind='bar', figsize=(12, 5), rot=0)\n",
    "plt.xlabel(\"Workclass\")\n",
    "plt.ylabel(\"Count of People\")\n",
    "plt.title(\"Number of people by age workclass\")\n",
    "plt.legend(loc='upper right')\n",
    "plt.show()"
   ]
  },
  {
   "cell_type": "code",
   "execution_count": null,
   "metadata": {},
   "outputs": [],
   "source": [
    "workclass_list"
   ]
  },
  {
   "cell_type": "markdown",
   "metadata": {},
   "source": [
    "### Distributed by education"
   ]
  },
  {
   "cell_type": "code",
   "execution_count": null,
   "metadata": {},
   "outputs": [],
   "source": [
    "df_orig['education'].value_counts().plot(kind='bar', figsize=(12, 5), rot=0)\n",
    "plt.xlabel(\"Education\")\n",
    "plt.ylabel(\"Count of People\")\n",
    "plt.title(\"Number of people by education\")\n",
    "plt.show()"
   ]
  },
  {
   "cell_type": "markdown",
   "metadata": {},
   "source": [
    "### Distributed by marital status"
   ]
  },
  {
   "cell_type": "code",
   "execution_count": null,
   "metadata": {},
   "outputs": [],
   "source": [
    "df_orig['marital-status'].value_counts().plot(kind='bar', figsize=(16, 5), rot=0)\n",
    "plt.xlabel(\"Marital Status\")\n",
    "plt.ylabel(\"Count of People\")\n",
    "plt.title(\"Number of people by marital status\")\n",
    "plt.show()"
   ]
  },
  {
   "cell_type": "markdown",
   "metadata": {},
   "source": [
    "### Distributed by occupation"
   ]
  },
  {
   "cell_type": "code",
   "execution_count": null,
   "metadata": {},
   "outputs": [],
   "source": [
    "df_orig['occupation'].value_counts().plot(kind='bar', figsize=(14, 6), rot=0)\n",
    "plt.xlabel(\"Occupation\")\n",
    "plt.ylabel(\"Count of People\")\n",
    "plt.title(\"Number of people by occupation\")\n",
    "plt.show()"
   ]
  },
  {
   "cell_type": "markdown",
   "metadata": {},
   "source": [
    "### Distributed by race"
   ]
  },
  {
   "cell_type": "code",
   "execution_count": null,
   "metadata": {
    "scrolled": false
   },
   "outputs": [],
   "source": [
    "df_orig['race'].value_counts().plot(kind='bar', figsize=(15, 5), rot=0)\n",
    "plt.xlabel(\"Race\")\n",
    "plt.ylabel(\"Count of People\")\n",
    "plt.title(\"Number of people by race\")\n",
    "plt.show()"
   ]
  },
  {
   "cell_type": "markdown",
   "metadata": {},
   "source": [
    "### Distributed by sex"
   ]
  },
  {
   "cell_type": "code",
   "execution_count": null,
   "metadata": {},
   "outputs": [],
   "source": [
    "df_orig['sex'].value_counts().plot(kind='bar', figsize=(15, 5), rot=0)\n",
    "plt.xlabel(\"Sex\")\n",
    "plt.ylabel(\"Count of People\")\n",
    "plt.title(\"Number of people by sex (1: Male, 0: Female)\")\n",
    "plt.show()"
   ]
  },
  {
   "cell_type": "markdown",
   "metadata": {},
   "source": [
    "# 4. Techniques Used"
   ]
  },
  {
   "cell_type": "markdown",
   "metadata": {},
   "source": [
    "## KNN First Attempt"
   ]
  },
  {
   "cell_type": "code",
   "execution_count": null,
   "metadata": {},
   "outputs": [],
   "source": [
    "# Splits rows to create a train and test\n",
    "train,test=train_test_split(df_orig.iloc[:,[4,8,9,14]],test_size=0.33)\n",
    "#train,test=train_test_split(df_orig.iloc[:,[0,1,4,5,6,7,8,9,12,13,14]],test_size=0.33)\n",
    "X_train=train.iloc[:,:3] #Take train portion and first columns\n",
    "Y_train=train.iloc[:,3:].values.ravel() #target we are trying to predict for\n",
    "X_test=test.iloc[:,:3] #take test portion columns \n",
    "Y_test=test.iloc[:,3:].values.ravel()\n"
   ]
  },
  {
   "cell_type": "code",
   "execution_count": null,
   "metadata": {},
   "outputs": [],
   "source": [
    "knn=KNeighborsClassifier(\n",
    "    n_neighbors=80, \n",
    "    weights='uniform', \n",
    "    algorithm='auto', \n",
    "    leaf_size=30, \n",
    "    p=2, \n",
    "    #metric='matching', \n",
    "    metric='minkowski', \n",
    "    metric_params=None, \n",
    "    n_jobs=None)"
   ]
  },
  {
   "cell_type": "code",
   "execution_count": null,
   "metadata": {},
   "outputs": [],
   "source": [
    "knn.fit(X_train,Y_train)"
   ]
  },
  {
   "cell_type": "code",
   "execution_count": null,
   "metadata": {},
   "outputs": [],
   "source": [
    "pred_test=knn.predict(X_test)\n",
    "# Model Accuracy, how often is the classifier correct?\n",
    "print(\"Accuracy:\",metrics.accuracy_score(Y_test, pred_test))\n",
    "print(\"Precision:\",metrics.precision_score(Y_test, pred_test))"
   ]
  },
  {
   "cell_type": "code",
   "execution_count": null,
   "metadata": {},
   "outputs": [],
   "source": [
    "display = metrics.PrecisionRecallDisplay.from_predictions(Y_test, pred_test, name=\"kNN\")\n",
    "display.ax_.set_title(\"2-class Precision-Recall curve\")"
   ]
  },
  {
   "cell_type": "code",
   "execution_count": null,
   "metadata": {},
   "outputs": [],
   "source": [
    "precision, recall, thresholds = metrics.precision_recall_curve(Y_test,pred_test)\n",
    "precision"
   ]
  },
  {
   "cell_type": "code",
   "execution_count": null,
   "metadata": {},
   "outputs": [],
   "source": [
    "metrics.roc_curve(Y_test,pred_test)"
   ]
  },
  {
   "cell_type": "markdown",
   "metadata": {},
   "source": [
    "## Second Attempt Random Forest \n",
    "\n"
   ]
  },
  {
   "cell_type": "code",
   "execution_count": null,
   "metadata": {},
   "outputs": [],
   "source": [
    "# Splits rows to create a train and test\n",
    "train,test=train_test_split(df_orig.iloc[:,[0,1,3,5,6,7,8,9,12,13,14]],test_size=0.33)\n",
    "X_train=train.iloc[:,:10] #Take train portion and first columns\n",
    "Y_train=train.iloc[:,10:].values.ravel() #target we are trying to predict for\n",
    "X_test=test.iloc[:,0:10] #take test portion columns \n",
    "Y_test=test.iloc[:,10:].values.ravel()"
   ]
  },
  {
   "cell_type": "code",
   "execution_count": null,
   "metadata": {},
   "outputs": [],
   "source": [
    "rf = RandomForestClassifier(n_estimators=100,\n",
    "                            # criterion='gini', \n",
    "                            max_depth=None, \n",
    "                            # min_samples_split=2, \n",
    "                            # min_samples_leaf=1, \n",
    "                            # min_weight_fraction_leaf=0.0,\n",
    "                            # max_features='sqrt',\n",
    "                            # max_leaf_nodes=None, \n",
    "                            # min_impurity_decrease=0.0, \n",
    "                            # bootstrap=True, \n",
    "                            # oob_score=False, \n",
    "                            # n_jobs=None, \n",
    "                            # random_state=None, \n",
    "                            # verbose=0,\n",
    "                            # warm_start=False, \n",
    "                            # class_weight=None,\n",
    "                            # ccp_alpha=0.0, \n",
    "                            # max_samples=None\n",
    "                            )\n",
    "rf.fit(X_train,Y_train)\n"
   ]
  },
  {
   "cell_type": "code",
   "execution_count": null,
   "metadata": {},
   "outputs": [],
   "source": [
    "pred_test=rf.predict(X_test)\n",
    "print(\"Accuracy:\",metrics.accuracy_score(Y_test, pred_test))\n",
    "print(\"Precision:\",metrics.precision_score(Y_test, pred_test))"
   ]
  },
  {
   "cell_type": "markdown",
   "metadata": {},
   "source": [
    "# 5. Data Processing Part 2"
   ]
  },
  {
   "cell_type": "markdown",
   "metadata": {},
   "source": [
    "# 6. Project Proposal"
   ]
  }
 ],
 "metadata": {
  "kernelspec": {
   "display_name": "Python 3 (ipykernel)",
   "language": "python",
   "name": "python3"
  },
  "language_info": {
   "codemirror_mode": {
    "name": "ipython",
    "version": 3
   },
   "file_extension": ".py",
   "mimetype": "text/x-python",
   "name": "python",
   "nbconvert_exporter": "python",
   "pygments_lexer": "ipython3",
   "version": "3.9.12"
  },
  "vscode": {
   "interpreter": {
    "hash": "aee8b7b246df8f9039afb4144a1f6fd8d2ca17a180786b69acc140d282b71a49"
   }
  }
 },
 "nbformat": 4,
 "nbformat_minor": 2
}
